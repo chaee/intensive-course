{
 "cells": [
  {
   "cell_type": "markdown",
   "metadata": {},
   "source": [
    "# Network analysis\n",
    "\n",
    "Network analysis focuses on seeing the world via nodes and ties between nodes.\n",
    "It can be used for various purposes, ranging from [textual data](https://sicss.io/2020/materials/day3-text-analysis/text-networks/rmarkdown/Text_Networks.html) to analysis of [sexual relationships in a high school](https://people.duke.edu/~jmoody77/chains.pdf).\n",
    "\n",
    "Now we learn how to\n",
    "* read data in as a network\n",
    "* visualise network\n",
    "* compute various network characteristics\n",
    "\n",
    "For this, we use the package [igraph](https://igraph.org/r/)."
   ]
  },
  {
   "cell_type": "code",
   "execution_count": null,
   "metadata": {},
   "outputs": [],
   "source": [
    "library(igraph)"
   ]
  },
  {
   "cell_type": "code",
   "execution_count": null,
   "metadata": {},
   "outputs": [],
   "source": [
    "data <- read.csv('data/org_x_collaboration.csv', header = F )\n",
    "matrix <- as.matrix( data )\n",
    "\n",
    "network <- graph_from_adjacency_matrix( matrix, 'directed' )"
   ]
  },
  {
   "cell_type": "markdown",
   "metadata": {},
   "source": [
    "## Computing network characteristics\n",
    "\n",
    "There are various measurements which can be executed both at the level of individual nodes as well as at the level of the whole network."
   ]
  },
  {
   "cell_type": "code",
   "execution_count": null,
   "metadata": {},
   "outputs": [],
   "source": [
    "degree( network )\n",
    "summary( degree( network ) )\n",
    "hist( degree( network ) )"
   ]
  },
  {
   "cell_type": "markdown",
   "metadata": {},
   "source": [
    "## Exercises\n",
    "\n",
    "* Instead of this ugly histogram, use `ggplot` to draw a nice histogram.\n",
    "* Instead of degree use [betweness](https://igraph.org/r/doc/betweenness.html) metrics.\n",
    "* Do degree and betweness correlate?\n",
    "* What is the diameter of the network?"
   ]
  },
  {
   "cell_type": "markdown",
   "metadata": {},
   "source": [
    "## Plotting networks\n",
    "\n",
    "Often network analysis is done through drawing the network.\n",
    "Here we learn how to twist the drawing by changing node attributes, tie attributes as well as the layoout of the graph.\n",
    "See [documentation](https://igraph.org/r/doc/plot.common.html) for various alternatives you can use."
   ]
  },
  {
   "cell_type": "code",
   "execution_count": null,
   "metadata": {},
   "outputs": [],
   "source": [
    "plot( network )"
   ]
  },
  {
   "cell_type": "code",
   "execution_count": null,
   "metadata": {},
   "outputs": [],
   "source": [
    "V(network)$color <- 'blue'\n",
    "V(network)$size <- degree(network)\n",
    "\n",
    "E(network)$color <- 'green'\n",
    "\n",
    "l = layout_in_circle( network )\n",
    "\n",
    "plot( network, layout = l )"
   ]
  },
  {
   "cell_type": "code",
   "execution_count": null,
   "metadata": {},
   "outputs": [],
   "source": []
  }
 ],
 "metadata": {
  "kernelspec": {
   "display_name": "R",
   "language": "R",
   "name": "ir"
  },
  "language_info": {
   "codemirror_mode": "r",
   "file_extension": ".r",
   "mimetype": "text/x-r-source",
   "name": "R",
   "pygments_lexer": "r",
   "version": "4.1.0"
  }
 },
 "nbformat": 4,
 "nbformat_minor": 4
}
